{
 "cells": [
  {
   "cell_type": "markdown",
   "id": "38ec13a7",
   "metadata": {},
   "source": [
    "# Probability of Winning the Lottery"
   ]
  },
  {
   "cell_type": "markdown",
   "id": "9c9a5eb0",
   "metadata": {},
   "source": [
    "Consider a state lottery and the probability of winning the grand prize. The game is played by selecting a group of 6 numbers from {1, 2, 3, ..., 51}, and the state selects a group of 6 numbers from the same set. You win the grand prize if all 6 of your numbers match the state's. The probability of winning is so low that some people are trying different ways of increasing their odds.\n",
    "\n",
    "Tasks:\n",
    "\n",
    "    - Identify whether the probability of winning is discrete or continuous. Write a Python function that calculates the probability of winning the grand prize for the new game, given that a group of 6 numbers are selected from {1, 2, 3, ..., 51}. \n",
    "    - 6Alexandra buys 1 ticket every 24 hours of every 365 days per year for 80 years of her life. Each ticket costs 5 dollard and she selects her numbers independently from one ticket to the next. Write a Python program that calculates the probability of Alexandra winning the lottery at least one time and the amount of money she spends trying.\n",
    "    - Amir decides to increase his chance of winning by organizing N of his friends to buy one ticket each for this week's drawing. Each friend buys a ticket independently, and the minimum value of N (Nmin(epsilon)) to ensure that the probability that there is at least one winner among the group is greater than or equal to epsilon needs to be calculated for various values of epsilon. Write a Python function that calculates the value of Nmin(epsilon) for epsilon = 10-5, 10-3, 0.1, and 0.5.\n",
    "    - If Amir has gathered enough friends to win with probability 0.5 using the above strategy, write a Python program that determines a way that they can increase their win probability above 0.5 without adding more people to the group.\n",
    "    - The state lottery commissioner introduces a consolation prize: If exactly 3 of your 6 numbers match any 3 of the state's, you win a smaller prize. Write a Python program that calculates the probability of winning the consolation prize and the expected value of the consolation prize. Is this consolation prize likely to increase sales?"
   ]
  },
  {
   "cell_type": "code",
   "execution_count": 15,
   "id": "9e989022",
   "metadata": {},
   "outputs": [],
   "source": [
    "#import librery\n",
    "\n",
    "import matplotlib.pyplot as plt\n",
    "from math import comb\n",
    "from math import factorial"
   ]
  },
  {
   "cell_type": "markdown",
   "id": "770c73f7",
   "metadata": {},
   "source": [
    "# 1. Probability of Winning the Grand Prize"
   ]
  },
  {
   "cell_type": "markdown",
   "id": "ffb86c5a",
   "metadata": {},
   "source": [
    "The probability of winning the grand prize in the lottery game described is a discrete probability. \n",
    "\n",
    "What is a discrete distribution?\n",
    "\n",
    "    A discrete distribution is a probability distribution that describes the occurrence of discrete (individually countable) outcomes.\n",
    "\n"
   ]
  },
  {
   "cell_type": "markdown",
   "id": "661fc926",
   "metadata": {},
   "source": [
    "Note that it was not specified whether the choice would be made in order or without regard to order.\n",
    "\n",
    "    If you choose 6 numbers out of 51 in a specific order (for example, 1st number, 2nd number, ..., 6th number), you're calculating permutations.\n",
    "    \n",
    "    If you choose 6 numbers from 51 in any order (just the set of numbers), you're calculating combinations."
   ]
  },
  {
   "cell_type": "markdown",
   "id": "48fb8df3",
   "metadata": {},
   "source": [
    "We will calculate the probability in both cases"
   ]
  },
  {
   "cell_type": "markdown",
   "id": "a02c9f5e",
   "metadata": {},
   "source": [
    "- First, I calculated the possible combinations for the 6-number draw in any order (combinations).\n",
    "\n",
    "Each combination of 6 numbers in the set {1, 2, 3, ..., 51} corresponds to a unique outcome, and the number of favorable outcomes (winning combinations) can be calculated directly.\n"
   ]
  },
  {
   "cell_type": "code",
   "execution_count": 23,
   "id": "3587c068",
   "metadata": {},
   "outputs": [
    {
     "data": {
      "text/plain": [
       "18009460"
      ]
     },
     "execution_count": 23,
     "metadata": {},
     "output_type": "execute_result"
    }
   ],
   "source": [
    "#6 matches = C(51,6)\n",
    "\n",
    "total_numbers = 51\n",
    "selected_numbers = 6\n",
    "possible_combinations = comb(total_numbers, selected_numbers)\n",
    "possible_combinations"
   ]
  },
  {
   "cell_type": "code",
   "execution_count": 24,
   "id": "fb8a680a",
   "metadata": {},
   "outputs": [
    {
     "name": "stdout",
     "output_type": "stream",
     "text": [
      "The probability of winning the grand prize When the order of selection doesn't matter is 0.0000000555\n"
     ]
    }
   ],
   "source": [
    "# Probability\n",
    "#let's calculate the probability using the formula 1/C(n,r)\n",
    "\n",
    "probability_comb = 1 / possible_combinations\n",
    "\n",
    "\n",
    "print(f\"The probability of winning the grand prize When the order of selection doesn't matter is {probability_comb:.10f}\")"
   ]
  },
  {
   "cell_type": "markdown",
   "id": "644d309c",
   "metadata": {},
   "source": [
    "- secondly , we'll calculate the 6-digit draw in a precise order.(permutations)\n",
    "\n",
    "When selecting numbers in a specific order, the arrangement matters. "
   ]
  },
  {
   "cell_type": "code",
   "execution_count": 25,
   "id": "fbc51b2e",
   "metadata": {},
   "outputs": [
    {
     "data": {
      "text/plain": [
       "12966811200"
      ]
     },
     "execution_count": 25,
     "metadata": {},
     "output_type": "execute_result"
    }
   ],
   "source": [
    "# Total number of possible outcome\n",
    "total_outcomes = factorial(51) // factorial(51 - 6)\n",
    "total_outcomes\n"
   ]
  },
  {
   "cell_type": "code",
   "execution_count": 26,
   "id": "f6b0cb12",
   "metadata": {},
   "outputs": [
    {
     "name": "stdout",
     "output_type": "stream",
     "text": [
      "The probability of winning the grand prize in a precise order is 0.0000000001\n"
     ]
    }
   ],
   "source": [
    "# Probability\n",
    "probability_per = 1 / total_outcomes\n",
    "print(f\"The probability of winning the grand prize in a precise order is {probability_per:.10f}\")"
   ]
  },
  {
   "cell_type": "markdown",
   "id": "58dc21c3",
   "metadata": {},
   "source": [
    "You'll observe that the permutation count will be greater than the combination count due to the consideration of order in permutations."
   ]
  },
  {
   "cell_type": "markdown",
   "id": "73ffabfa",
   "metadata": {},
   "source": [
    "# For the rest of the exercise, we will choose The probability of winning the grand prize When regardless of the order of selection  (combinations). "
   ]
  },
  {
   "cell_type": "markdown",
   "id": "fb91befe",
   "metadata": {},
   "source": [
    "# 2. Probability of Winning for Alexandra"
   ]
  },
  {
   "cell_type": "markdown",
   "id": "3bfc03de",
   "metadata": {},
   "source": [
    "# for combinations (draw in any order)"
   ]
  },
  {
   "cell_type": "markdown",
   "id": "851b0877",
   "metadata": {},
   "source": [
    "1. Alexandra buys a ticket every 24 hours, every 365 days of the year, for the 80 years of her life. \n",
    "    \n",
    "    - first, let's determine the number of tickets she has purchased"
   ]
  },
  {
   "cell_type": "code",
   "execution_count": 27,
   "id": "8f8d1ddc",
   "metadata": {},
   "outputs": [
    {
     "data": {
      "text/plain": [
       "29200"
      ]
     },
     "execution_count": 27,
     "metadata": {},
     "output_type": "execute_result"
    }
   ],
   "source": [
    "tickets_per_day = 1\n",
    "days_per_year = 365\n",
    "years = 80\n",
    "\n",
    "tickets_purchased = tickets_per_day * days_per_year * years\n",
    "tickets_purchased"
   ]
  },
  {
   "cell_type": "markdown",
   "id": "32806946",
   "metadata": {},
   "source": [
    "- let's find out how much she spent"
   ]
  },
  {
   "cell_type": "code",
   "execution_count": 30,
   "id": "32f80ffb",
   "metadata": {},
   "outputs": [
    {
     "name": "stdout",
     "output_type": "stream",
     "text": [
      "she spent 146000 dolard in 80 years\n"
     ]
    }
   ],
   "source": [
    "ticket_cost = 5\n",
    "total_cost = tickets_purchased * ticket_cost\n",
    "print(f\"she spent {total_cost} dolard in 80 years\")"
   ]
  },
  {
   "cell_type": "markdown",
   "id": "40be2970",
   "metadata": {},
   "source": [
    "2. Let's calculate the probability of Alexandra winning the lottery at least once \n",
    "\n",
    "To do this, we will first calculate the probability she never wins the lottery, then deduce the probability she wins least one time the lottery."
   ]
  },
  {
   "cell_type": "markdown",
   "id": "538030f0",
   "metadata": {},
   "source": [
    "- Let's calculate the probability of her never winning the lottery\n",
    "\n",
    "This probability corresponds to the probability of losing in 1 day, exponent the number of days, since the probability multiplies each day."
   ]
  },
  {
   "cell_type": "code",
   "execution_count": 31,
   "id": "dee75b11",
   "metadata": {},
   "outputs": [
    {
     "data": {
      "text/plain": [
       "0.9983799435625311"
      ]
     },
     "execution_count": 31,
     "metadata": {},
     "output_type": "execute_result"
    }
   ],
   "source": [
    "never_win = (1 - probability_comb) ** tickets_purchased\n",
    "never_win"
   ]
  },
  {
   "cell_type": "markdown",
   "id": "99718b67",
   "metadata": {},
   "source": [
    "- probability of Alexandra winning the lottery at least once"
   ]
  },
  {
   "cell_type": "code",
   "execution_count": 32,
   "id": "3749e5b5",
   "metadata": {},
   "outputs": [
    {
     "name": "stdout",
     "output_type": "stream",
     "text": [
      "probability of Alexandra winning the lottery at least once is 0.0016200564374688753 \n"
     ]
    }
   ],
   "source": [
    "probability_at_least_once = 1 - never_win\n",
    "print(f\"probability of Alexandra winning the lottery at least once is {probability_at_least_once} \")"
   ]
  },
  {
   "cell_type": "markdown",
   "id": "d4877b9c",
   "metadata": {},
   "source": [
    "# 3. calculate the value of Nmin(epsilon) "
   ]
  },
  {
   "cell_type": "markdown",
   "id": "f963bb98",
   "metadata": {},
   "source": [
    "Amir wants to ensure that the probability of winning is greater than or equal to certain thresholds (epsilon) by organizing a number(Nmin) of his friends to each buy a ticket for this week's draw.\n",
    "\n",
    "Let's write a Python function to calculate the minimum number of friends required to reach the desired probabilities."
   ]
  },
  {
   "cell_type": "code",
   "execution_count": 40,
   "id": "1989b34d",
   "metadata": {},
   "outputs": [
    {
     "name": "stdout",
     "output_type": "stream",
     "text": [
      "Nmin values for different epsilon values: [181, 18019, 1897486, 12483207]\n"
     ]
    }
   ],
   "source": [
    "Nmin_values = []\n",
    "Nmin = 1\n",
    "for epsilon in [10**-5, 10**-3, 0.1, 0.5]:\n",
    "        probability_winner = 1 - (1 - probability_comb) ** Nmin\n",
    "        \n",
    "        while probability_winner < epsilon:\n",
    "            Nmin += 1\n",
    "            probability_winner = 1 - (1 - probability_comb) ** Nmin\n",
    "            \n",
    "            \n",
    "        Nmin_values.append(Nmin)\n",
    "\n",
    "Nmin_values\n",
    "print(\"Nmin values for different epsilon values:\", Nmin_values)\n",
    "\n"
   ]
  },
  {
   "cell_type": "markdown",
   "id": "bd6d3777",
   "metadata": {},
   "source": [
    "#  4. Increase the probability of Amir's group winning"
   ]
  },
  {
   "cell_type": "markdown",
   "id": "a8124faa",
   "metadata": {},
   "source": [
    "If Amir's group already has a probability of winning greater than 0.5, they can further increase their chances by employing a strategy such as buying more tickets. "
   ]
  },
  {
   "cell_type": "code",
   "execution_count": 73,
   "id": "57ea5668",
   "metadata": {},
   "outputs": [
    {
     "name": "stdout",
     "output_type": "stream",
     "text": [
      "[2, 3, 4, 5, 6, 7, 8, 9, 10, 11, 12, 13, 14, 15, 16, 17, 18, 19, 20, 21, 22, 23, 24, 25, 26, 27, 28, 29, 30, 31, 32, 33, 34, 35, 36, 37, 38, 39, 40, 41, 42, 43, 44, 45, 46, 47, 48, 49, 50, 51, 52, 53, 54]\n"
     ]
    }
   ],
   "source": [
    "#The best way for Amir to increase the probability of winning by more than 0.5 is to increase the number of tickets purchased per person.\n",
    "\n",
    "#Nim represents the minimum number of friends required to obtain the probability of 0.5.\n",
    "Nmin = 12483207\n",
    "\n",
    "#we will develop a code to determine the minimum Ticket interval to have a probability between 0.5 and 1.\n",
    "total_tickets = []\n",
    "probability_no_winner = 0.5\n",
    "tickets = 1\n",
    "\n",
    "while probability_no_winner <= 0.5: \n",
    "    \n",
    "    tickets = tickets + 1\n",
    "    \n",
    "    while probability_no_winner < 1:\n",
    "        \n",
    "        \n",
    "        new_probability = 1 - (1 - probability_comb) ** tickets\n",
    "    \n",
    "\n",
    "        probability_no_winner = 1 - (1 - new_probability) ** Nmin\n",
    "        \n",
    "            \n",
    "        total_tickets.append(tickets)\n",
    "        tickets = tickets + 1\n",
    "\n",
    "\n",
    "#let's consider 'y' as the probability of winning according to the number of tickets per person\n",
    "y = []\n",
    "for i in total_tickets:\n",
    "    \n",
    "    new_probability = 1 - (1 - probability_comb) ** i\n",
    "    probability_winner = 1 - (1 - new_probability) ** Nmin\n",
    "\n",
    "    y.append(probability_winner)\n",
    "    \n",
    "print(total_tickets)"
   ]
  },
  {
   "cell_type": "code",
   "execution_count": 77,
   "id": "a4d7353f",
   "metadata": {},
   "outputs": [
    {
     "data": {
      "image/png": "[encoded data removed]",
      "text/plain": [
       "<Figure size 640x480 with 1 Axes>"
      ]
     },
     "metadata": {},
     "output_type": "display_data"
    }
   ],
   "source": [
    "\n",
    "plt.plot(total_tickets, y)\n",
    "plt.xlabel('number of tickets per person')\n",
    "plt.ylabel('probability of winning')\n",
    "plt.show()"
   ]
  },
  {
   "cell_type": "markdown",
   "id": "6cf2a479",
   "metadata": {},
   "source": [
    "# Verification"
   ]
  },
  {
   "cell_type": "code",
   "execution_count": 65,
   "id": "69766704",
   "metadata": {},
   "outputs": [
    {
     "data": {
      "text/plain": [
       "0.7500000257442363"
      ]
     },
     "execution_count": 65,
     "metadata": {},
     "output_type": "execute_result"
    }
   ],
   "source": [
    "#for 2 tickets per person we have:\n",
    "total_tickets = 2\n",
    "new_probability = 1 - (1 - probability_comb) ** total_tickets\n",
    "probability_winner = 1 - (1 - new_probability) ** Nmin\n",
    "\n",
    "print(\"Nmin values for different epsilon values:\", Nmin_values)\n",
    "probability_winner"
   ]
  },
  {
   "cell_type": "code",
   "execution_count": 68,
   "id": "974b81ae",
   "metadata": {},
   "outputs": [
    {
     "data": {
      "text/plain": [
       "1.0"
      ]
     },
     "execution_count": 68,
     "metadata": {},
     "output_type": "execute_result"
    }
   ],
   "source": [
    "#for 54 tickets per person we have:\n",
    "total_tickets = 54\n",
    "new_probability = 1 - (1 - probability_comb) ** total_tickets\n",
    "probability_winner = 1 - (1 - new_probability) ** Nmin\n",
    "\n",
    "probability_winner"
   ]
  },
  {
   "cell_type": "markdown",
   "id": "f3bbae4f",
   "metadata": {},
   "source": [
    "From two Tickect purchased per person, the probability is greater than 0.1.\n",
    "\n",
    "we also note that from 54 Tickets per person, the probability of winning is equal to 1, which means he'll be sure to win."
   ]
  },
  {
   "cell_type": "markdown",
   "id": "ed85eb56",
   "metadata": {},
   "source": [
    "# 5. probability of winning the consolation prize and the expected value of the consolation prize. "
   ]
  },
  {
   "cell_type": "markdown",
   "id": "c43b7589",
   "metadata": {},
   "source": [
    "The state lottery commissioner introduces a consolation prize: if exactly 3 of your 6 numbers match 3 of the state numbers, you win a smaller prize.\n",
    "\n",
    "Let's write a Python program to calculate the probability of winning the consolation prize and the expected value of the consolation prize.\n"
   ]
  },
  {
   "cell_type": "code",
   "execution_count": 79,
   "id": "55657258",
   "metadata": {},
   "outputs": [
    {
     "name": "stdout",
     "output_type": "stream",
     "text": [
      "Probability of winning the consolation prize: 0.0157583848\n",
      "Expected value of the consolation prize: $1575.84\n"
     ]
    }
   ],
   "source": [
    "# Assuming the consolation prize amount is $100000, you can adjust this value accordingly\n",
    "\n",
    "consolation_prize_amount = 100000\n",
    "selected_numbers_consolation = 3\n",
    "probability_consolation = comb(6, selected_numbers_consolation) * comb(45, 3) / comb(51, 6)\n",
    "expected_value_consolation = probability_consolation * consolation_prize_amount\n",
    "\n",
    "\n",
    "print(f\"Probability of winning the consolation prize: {probability_consolation:.10f}\")\n",
    "print(f\"Expected value of the consolation prize: ${expected_value_consolation:.2f}\")"
   ]
  },
  {
   "cell_type": "markdown",
   "id": "06bb3f80",
   "metadata": {},
   "source": [
    "As per the impact on sales, introducing a consolation prize might increase ticket sales, as it provides players with additional chances of winning something, albeit a smaller amount than the grand prize. It could attract players who may be discouraged by the low probability of winning the grand prize alone."
   ]
  },
  {
   "cell_type": "code",
   "execution_count": null,
   "id": "d457afd1",
   "metadata": {},
   "outputs": [],
   "source": []
  }
 ],
 "metadata": {
  "kernelspec": {
   "display_name": "Python 3 (ipykernel)",
   "language": "python",
   "name": "python3"
  },
  "language_info": {
   "codemirror_mode": {
    "name": "ipython",
    "version": 3
   },
   "file_extension": ".py",
   "mimetype": "text/x-python",
   "name": "python",
   "nbconvert_exporter": "python",
   "pygments_lexer": "ipython3",
   "version": "3.11.5"
  }
 },
 "nbformat": 4,
 "nbformat_minor": 5
}
